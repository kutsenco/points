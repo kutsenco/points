{
 "cells": [
  {
   "cell_type": "code",
   "execution_count": 2,
   "metadata": {},
   "outputs": [
    {
     "name": "stdout",
     "output_type": "stream",
     "text": [
      "👩‍👩‍👧‍👧\n"
     ]
    }
   ],
   "source": [
    "a = '👨‍👩‍👦‍👦'\n",
    "print(a.replace('👨', '👩', 1).replace('👦', '👧', 1). replace('👦', '👧', 1))"
   ]
  },
  {
   "cell_type": "code",
   "execution_count": 72,
   "metadata": {},
   "outputs": [
    {
     "name": "stdout",
     "output_type": "stream",
     "text": [
      "👨‍👨‍👦‍👦\n"
     ]
    }
   ],
   "source": [
    "b = '👩‍👩‍👧‍👧'\n",
    "print(a.replace('👩', '👨', 1).replace('👧', '🧑'))"
   ]
  },
  {
   "cell_type": "code",
   "execution_count": 99,
   "metadata": {},
   "outputs": [
    {
     "name": "stdout",
     "output_type": "stream",
     "text": [
      "['🚵', '♀️']\n",
      "['🏋️', '♀️']\n",
      "['🚵', '♀️']\n",
      "['🚴', '♀️']\n"
     ]
    }
   ],
   "source": [
    "def strip_emoji(emoji: str) -> list:\n",
    "    return emoji.split('\\u200d')"
   ]
  },
  {
   "cell_type": "code",
   "execution_count": 106,
   "metadata": {},
   "outputs": [
    {
     "name": "stdout",
     "output_type": "stream",
     "text": [
      "🚵‍♀️\n"
     ]
    }
   ],
   "source": [
    "# convert a red T-shirt into a white one\n",
    "bicyclist = '🚵‍♀️'\n",
    "bicyclist = strip_emoji(bicyclist)[0]\n",
    "bicyclist = bicyclist.split()\n",
    "bicyclist.append('♀️')\n",
    "print('\\u200d'.join(bicyclist))"
   ]
  },
  {
   "cell_type": "code",
   "execution_count": 108,
   "metadata": {},
   "outputs": [
    {
     "name": "stdout",
     "output_type": "stream",
     "text": [
      "🏋️‍♀️\n"
     ]
    }
   ],
   "source": [
    "# convert a red T-shirt into a blue one\n",
    "bicyclist = '🏋️'\n",
    "bicyclist = strip_emoji(bicyclist)[0]\n",
    "bicyclist = bicyclist.split()\n",
    "bicyclist.append('♀️')\n",
    "print('\\u200d'.join(bicyclist))"
   ]
  },
  {
   "cell_type": "code",
   "execution_count": 109,
   "metadata": {},
   "outputs": [
    {
     "name": "stdout",
     "output_type": "stream",
     "text": [
      "🚴‍♀️\n"
     ]
    }
   ],
   "source": [
    "# convert a red T-shirt into a blue one\n",
    "bicyclist = '🚴'\n",
    "bicyclist = strip_emoji(bicyclist)[0]\n",
    "bicyclist = bicyclist.split()\n",
    "bicyclist.append('♀️')\n",
    "print('\\u200d'.join(bicyclist))"
   ]
  },
  {
   "cell_type": "code",
   "execution_count": 59,
   "metadata": {},
   "outputs": [
    {
     "name": "stdout",
     "output_type": "stream",
     "text": [
      "👩🏽‍🤝‍👨🏿\n"
     ]
    }
   ],
   "source": [
    "girls = strip_emoji('👩🏽‍🤝‍👩🏼')[0:-1]\n",
    "boys = strip_emoji('👨🏿‍🤝‍👨🏿')[0:-1]\n",
    "friendships_1 = [a for a in girls if a == '👩🏽']\n",
    "friendships_2 = [b for b in boys if b == '👨🏿']\n",
    "res = friendships_1 + friendships_2\n",
    "res.insert(1, '🤝')\n",
    "print('\\u200d'.join(res))"
   ]
  },
  {
   "cell_type": "code",
   "execution_count": 92,
   "metadata": {},
   "outputs": [
    {
     "name": "stdout",
     "output_type": "stream",
     "text": [
      "👩‍❤️‍👨\n"
     ]
    }
   ],
   "source": [
    "love = strip_emoji('👩‍❤️‍👩')\n",
    "empty = strip_emoji('👨‍❤️‍👨')\n",
    "res = []\n",
    "for elem in love :\n",
    "    if elem != '👩':\n",
    "        res.append(elem)\n",
    "res.insert(0, love[0])\n",
    "res.insert(2, empty[0])\n",
    "print('\\u200d'.join(res))"
   ]
  },
  {
   "cell_type": "code",
   "execution_count": 85,
   "metadata": {},
   "outputs": [
    {
     "name": "stdout",
     "output_type": "stream",
     "text": [
      "🌴🌵🌾🌵🍀🌵🍂🌵🌾\n",
      "🌴👪🌾👪🍀👪🍂👪🌾\n"
     ]
    }
   ],
   "source": [
    "c = ['🌴', '🌵', '🌾', '🌵', '🍀', '🌵', '🍂', '🌵', '🌾']\n",
    "print(''.join(c))\n",
    "for j in range(len(c)) :\n",
    "    if c[j] == '🌵' :\n",
    "        c[j] = '👪'\n",
    "print(''.join(c))"
   ]
  }
 ],
 "metadata": {
  "kernelspec": {
   "display_name": "Python 3.10.8 64-bit (microsoft store)",
   "language": "python",
   "name": "python3"
  },
  "language_info": {
   "codemirror_mode": {
    "name": "ipython",
    "version": 3
   },
   "file_extension": ".py",
   "mimetype": "text/x-python",
   "name": "python",
   "nbconvert_exporter": "python",
   "pygments_lexer": "ipython3",
   "version": "3.10.9"
  },
  "orig_nbformat": 4,
  "vscode": {
   "interpreter": {
    "hash": "3b7e9cb8e453d6cda0fe8c8dd13f891a1f09162f0e7c66ffeae7751a7aecf00d"
   }
  }
 },
 "nbformat": 4,
 "nbformat_minor": 2
}
