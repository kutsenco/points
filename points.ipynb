{
 "cells": [
  {
   "cell_type": "code",
   "execution_count": 70,
   "metadata": {},
   "outputs": [
    {
     "name": "stdout",
     "output_type": "stream",
     "text": [
      "👩‍👩‍👧‍👧\n"
     ]
    }
   ],
   "source": [
    "a = '👨‍👩‍👦‍👦'\n",
    "print(a.replace('👨', '👩', 1).replace('👦', '👧', 1). replace('👦', '👧', 1))"
   ]
  },
  {
   "cell_type": "code",
   "execution_count": 72,
   "metadata": {},
   "outputs": [
    {
     "name": "stdout",
     "output_type": "stream",
     "text": [
      "👨‍👨‍👦‍👦\n"
     ]
    }
   ],
   "source": [
    "b = '👩‍👩‍👧‍👧'\n",
    "print(a.replace('👩', '👨', 1).replace('👧', '🧑'))"
   ]
  },
  {
   "cell_type": "code",
   "execution_count": 85,
   "metadata": {},
   "outputs": [
    {
     "name": "stdout",
     "output_type": "stream",
     "text": [
      "🌴🌵🌾🌵🍀🌵🍂🌵🌾\n",
      "🌴👪🌾👪🍀👪🍂👪🌾\n"
     ]
    }
   ],
   "source": [
    "c = ['🌴', '🌵', '🌾', '🌵', '🍀', '🌵', '🍂', '🌵', '🌾']\n",
    "print(''.join(c))\n",
    "for j in range(len(c)) :\n",
    "    if c[j] == '🌵' :\n",
    "        c[j] = '👪'\n",
    "print(''.join(c))"
   ]
  },
  {
   "cell_type": "code",
   "execution_count": 89,
   "metadata": {},
   "outputs": [
    {
     "name": "stdout",
     "output_type": "stream",
     "text": [
      "😘❤😀\n",
      "😭💔🤬\n"
     ]
    }
   ],
   "source": [
    "d = ['😘', '❤', '😀']\n",
    "print(''.join(d))\n",
    "for i in range(len(d)) :\n",
    "    if d[i] == '❤' :\n",
    "        d[i] = '💔'\n",
    "    d[0] = '😭'\n",
    "    d[-1] = '🤬'\n",
    "print(''.join(d))"
   ]
  }
 ],
 "metadata": {
  "kernelspec": {
   "display_name": "Python 3.10.8 64-bit (microsoft store)",
   "language": "python",
   "name": "python3"
  },
  "language_info": {
   "codemirror_mode": {
    "name": "ipython",
    "version": 3
   },
   "file_extension": ".py",
   "mimetype": "text/x-python",
   "name": "python",
   "nbconvert_exporter": "python",
   "pygments_lexer": "ipython3",
   "version": "3.10.8"
  },
  "orig_nbformat": 4,
  "vscode": {
   "interpreter": {
    "hash": "3b7e9cb8e453d6cda0fe8c8dd13f891a1f09162f0e7c66ffeae7751a7aecf00d"
   }
  }
 },
 "nbformat": 4,
 "nbformat_minor": 2
}
